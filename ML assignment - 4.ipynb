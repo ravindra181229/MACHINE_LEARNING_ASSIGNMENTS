{
 "cells": [
  {
   "cell_type": "markdown",
   "id": "38481b2e",
   "metadata": {},
   "source": [
    "# Machine learning assignment - 4"
   ]
  },
  {
   "cell_type": "code",
   "execution_count": 1,
   "id": "ef90f5f6",
   "metadata": {},
   "outputs": [
    {
     "data": {
      "text/plain": [
       "'\\nThe key tasks are :\\ncollect the data, prepare the data, choose the model,\\ntrain the model , evaluation of model, parameter tuning, prediction of model\\n'"
      ]
     },
     "execution_count": 1,
     "metadata": {},
     "output_type": "execute_result"
    }
   ],
   "source": [
    "#Q1\n",
    "\"\"\"\n",
    "The key tasks are :\n",
    "collect the data, prepare the data, choose the model,\n",
    "train the model , evaluation of model, parameter tuning, prediction of model\n",
    "\"\"\""
   ]
  },
  {
   "cell_type": "code",
   "execution_count": 2,
   "id": "cc8fa41e",
   "metadata": {},
   "outputs": [
    {
     "data": {
      "text/plain": [
       "'\\nThe different forms of data used in machine learning :\\n>> Numerical data, Example : height, weight, age etc\\n\\n>> Categorical data, Example : race, sex group, age group, educational level etc\\n\\n>> time series data, Example : heights of ocean tide, counts of sunspots\\n\\n>> text data, Example : social media posts, emails  \\n\\n'"
      ]
     },
     "execution_count": 2,
     "metadata": {},
     "output_type": "execute_result"
    }
   ],
   "source": [
    "#Q2\n",
    "\"\"\"\n",
    "The different forms of data used in machine learning :\n",
    ">> Numerical data, Example : height, weight, age etc\n",
    "\n",
    ">> Categorical data, Example : race, sex group, age group, educational level etc\n",
    "\n",
    ">> time series data, Example : heights of ocean tide, counts of sunspots\n",
    "\n",
    ">> text data, Example : social media posts, emails  \n",
    "\n",
    "\"\"\""
   ]
  },
  {
   "cell_type": "code",
   "execution_count": 4,
   "id": "90274a3b",
   "metadata": {},
   "outputs": [
    {
     "data": {
      "text/plain": [
       "'\\n1)Numeric vs categorical attributes:\\n\\n>> Categorical data is used to group information with similar characteristics\\ncategorical data can be stored and identified based on the names given to them.\\n\\n>> Numerical data is a type of data that expresses information in the form of numbers.\\nnumeric data is not in any language or descriptive form.\\n\\n2)Feature selection vs dimensionality reduction:\\n\\n>>Feature selection is simply selecting and excluding given fetures without changing them.\\n\\n>>Dimensionality reduction transforms features into lower dimension\\n'"
      ]
     },
     "execution_count": 4,
     "metadata": {},
     "output_type": "execute_result"
    }
   ],
   "source": [
    "#Q3\n",
    "\"\"\"\n",
    "1)Numeric vs categorical attributes:\n",
    "\n",
    ">> Categorical data is used to group information with similar characteristics\n",
    "categorical data can be stored and identified based on the names given to them.\n",
    "\n",
    ">> Numerical data is a type of data that expresses information in the form of numbers.\n",
    "numeric data is not in any language or descriptive form.\n",
    "\n",
    "2)Feature selection vs dimensionality reduction:\n",
    "\n",
    ">>Feature selection is simply selecting and excluding given fetures without changing them.\n",
    "\n",
    ">>Dimensionality reduction transforms features into lower dimension\n",
    "\"\"\""
   ]
  },
  {
   "cell_type": "code",
   "execution_count": 5,
   "id": "3b5d056a",
   "metadata": {},
   "outputs": [
    {
     "data": {
      "text/plain": [
       "'\\n1)The histogram:\\nA histogram is graphical representation that organises a group of data points tno user specified ranges.\\nsimilar to bar graph, the histogram condenses a data series into an easily interpreted visual by taking many data points\\nand grouping them into logical ranges or bins\\n\\n2)Use a scatter plot:\\nThe scatter diagram graphs pairs of numerical data with one variable on each axis to look for a relationship between them. \\nif the variable are correlated, the points will fall along a line or curve the better the correlation the tighter the points will hug the line\\n'"
      ]
     },
     "execution_count": 5,
     "metadata": {},
     "output_type": "execute_result"
    }
   ],
   "source": [
    "#Q4\n",
    "\"\"\"\n",
    "1)The histogram:\n",
    "A histogram is graphical representation that organises a group of data points tno user specified ranges.\n",
    "similar to bar graph, the histogram condenses a data series into an easily interpreted visual by taking many data points\n",
    "and grouping them into logical ranges or bins\n",
    "\n",
    "2)Use a scatter plot:\n",
    "The scatter diagram graphs pairs of numerical data with one variable on each axis to look for a relationship between them. \n",
    "if the variable are correlated, the points will fall along a line or curve the better the correlation the tighter the points will hug the line\n",
    "\"\"\""
   ]
  },
  {
   "cell_type": "code",
   "execution_count": 6,
   "id": "bd9ce1b2",
   "metadata": {},
   "outputs": [
    {
     "data": {
      "text/plain": [
       "'\\n>> The main purpose is to present accurate and reliable data and avoid statistical errors and\\nfind a way to deal with everyday challenges .\\n>> quantitative research deals with numbers and statistics while qualitative research deals with words and meanings\\nquantitative methods us to systematically measure variables and test hypotheses Qualitative methods us to explore concepts and experiences in more detail.\\n'"
      ]
     },
     "execution_count": 6,
     "metadata": {},
     "output_type": "execute_result"
    }
   ],
   "source": [
    "#Q5\n",
    "\"\"\"\n",
    ">> The main purpose is to present accurate and reliable data and avoid statistical errors and\n",
    "find a way to deal with everyday challenges .\n",
    ">> quantitative research deals with numbers and statistics while qualitative research deals with words and meanings\n",
    "quantitative methods us to systematically measure variables and test hypotheses Qualitative methods us to explore concepts and experiences in more detail.\n",
    "\"\"\""
   ]
  },
  {
   "cell_type": "code",
   "execution_count": 11,
   "id": "3a276ee6",
   "metadata": {},
   "outputs": [
    {
     "data": {
      "text/plain": [
       "'\\nThe various histogram shapes:\\nskewed distribution, double peaked, edge peak distribution, comb distribution etc\\nBins:\\nA histogram displays numberic data by grouping data into \"bins\"\\neach bin is plotted as a bar whose height corresponds to number of data points are in that bin\\n'"
      ]
     },
     "execution_count": 11,
     "metadata": {},
     "output_type": "execute_result"
    }
   ],
   "source": [
    "#Q6\n",
    "\"\"\"\n",
    "The various histogram shapes:\n",
    "skewed distribution, double peaked, edge peak distribution, comb distribution etc\n",
    "Bins:\n",
    "A histogram displays numberic data by grouping data into \"bins\"\n",
    "each bin is plotted as a bar whose height corresponds to number of data points are in that bin\n",
    "\"\"\""
   ]
  },
  {
   "cell_type": "code",
   "execution_count": 13,
   "id": "df327664",
   "metadata": {},
   "outputs": [
    {
     "data": {
      "text/plain": [
       "'\\nSort the dataset in ascending order.\\ncalculate the 1st and 3rd quartiles(Q1, Q3)\\ncompute IQR=Q3-Q1.\\ncompute lower bound = (Q1–1.5*IQR), upper bound = (Q3+1.5*IQR)\\nloop through the values of the dataset and check for those who fall below the lower bound and above the upper bound and mark them as outliers\\n'"
      ]
     },
     "execution_count": 13,
     "metadata": {},
     "output_type": "execute_result"
    }
   ],
   "source": [
    "#Q7\n",
    "\"\"\"\n",
    "Sort the dataset in ascending order.\n",
    "calculate the 1st and 3rd quartiles(Q1, Q3)\n",
    "compute IQR=Q3-Q1.\n",
    "compute lower bound = (Q1–1.5*IQR), upper bound = (Q3+1.5*IQR)\n",
    "loop through the values of the dataset and check for those who fall below the lower bound and above the upper bound and mark them as outliers\n",
    "\"\"\""
   ]
  },
  {
   "cell_type": "code",
   "execution_count": 8,
   "id": "80035112",
   "metadata": {},
   "outputs": [
    {
     "data": {
      "text/plain": [
       "'\\nThe various central inclination measures are :\\nMean , median and mode\\n\\n>> Unlike the mean the median doesn’t depend on all the values in the dataset consequently, when some of the values are more extreme the effect on the median is smaller \\nwith other types of changes, the median can change. When you have a skewed distribution, the median is a better measure of central tendency than the mean.so only mean vary too much from median in certain data sets\\n'"
      ]
     },
     "execution_count": 8,
     "metadata": {},
     "output_type": "execute_result"
    }
   ],
   "source": [
    "#Q8\n",
    "\"\"\"\n",
    "The various central inclination measures are :\n",
    "Mean , median and mode\n",
    "\n",
    ">> Unlike the mean the median doesn’t depend on all the values in the dataset consequently, when some of the values are more extreme the effect on the median is smaller \n",
    "with other types of changes, the median can change. When you have a skewed distribution, the median is a better measure of central tendency than the mean.so only mean vary too much from median in certain data sets\n",
    "\"\"\""
   ]
  },
  {
   "cell_type": "code",
   "execution_count": 5,
   "id": "da993d49",
   "metadata": {},
   "outputs": [
    {
     "data": {
      "text/plain": [
       "'\\nthe scatter plot is a fundamental tool for looking at bivariate data \\nIt shows the important characteristics and can be used to decide what model may describe the relationship between the variables.\\n\\n>> Yes if there is a regression line on a sactter plot, then we can identify outliers\\n'"
      ]
     },
     "execution_count": 5,
     "metadata": {},
     "output_type": "execute_result"
    }
   ],
   "source": [
    "#Q9\n",
    "\"\"\"\n",
    "the scatter plot is a fundamental tool for looking at bivariate data \n",
    "It shows the important characteristics and can be used to decide what model may describe the relationship between the variables.\n",
    "\n",
    ">> Yes if there is a regression line on a sactter plot, then we can identify outliers\n",
    "\"\"\""
   ]
  },
  {
   "cell_type": "code",
   "execution_count": 4,
   "id": "2092654e",
   "metadata": {},
   "outputs": [
    {
     "data": {
      "text/plain": [
       "'\\nTo describe the relationship between two categorical variables \\nwe use a special type of table called cross-tab,in a cross-tab the categories of one variable determine the rows of the table\\nand the categories of the other variable determine the columns\\n'"
      ]
     },
     "execution_count": 4,
     "metadata": {},
     "output_type": "execute_result"
    }
   ],
   "source": [
    "#10\n",
    "\"\"\"\n",
    "To describe the relationship between two categorical variables \n",
    "we use a special type of table called cross-tab,in a cross-tab the categories of one variable determine the rows of the table\n",
    "and the categories of the other variable determine the columns\n",
    "\"\"\""
   ]
  },
  {
   "cell_type": "code",
   "execution_count": null,
   "id": "ac3fad26",
   "metadata": {},
   "outputs": [],
   "source": []
  }
 ],
 "metadata": {
  "kernelspec": {
   "display_name": "Python 3",
   "language": "python",
   "name": "python3"
  },
  "language_info": {
   "codemirror_mode": {
    "name": "ipython",
    "version": 3
   },
   "file_extension": ".py",
   "mimetype": "text/x-python",
   "name": "python",
   "nbconvert_exporter": "python",
   "pygments_lexer": "ipython3",
   "version": "3.8.8"
  }
 },
 "nbformat": 4,
 "nbformat_minor": 5
}
