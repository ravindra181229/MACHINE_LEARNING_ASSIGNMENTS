{
 "cells": [
  {
   "cell_type": "markdown",
   "id": "2c0fef6e",
   "metadata": {},
   "source": [
    "# ML_assignment - 7"
   ]
  },
  {
   "cell_type": "code",
   "execution_count": 2,
   "id": "76b5ddd5",
   "metadata": {},
   "outputs": [
    {
     "data": {
      "text/plain": [
       "'\\nA target function, in machine learning, is a method for solving a problem that an AI algorithm parses\\nits training data to find. Once an algorithm finds its target function, that function can be used to predict results\\n\\n>> Consider three variables x, y and z. The problem is to find the best set of values for x, y and z\\nso that their total value is equal to a value t. We have to reduce the sum x+y+z from deviating from t, i.e. |x + y + z — t| should be zero. \\nHence the fitness function can be considered as the inverse of |x + y + z - t|.\\n'"
      ]
     },
     "execution_count": 2,
     "metadata": {},
     "output_type": "execute_result"
    }
   ],
   "source": [
    "#Q1\n",
    "\"\"\"\n",
    "A target function, in machine learning, is a method for solving a problem that an AI algorithm parses\n",
    "its training data to find. Once an algorithm finds its target function, that function can be used to predict results\n",
    "\n",
    ">> Consider three variables x, y and z. The problem is to find the best set of values for x, y and z\n",
    "so that their total value is equal to a value t. We have to reduce the sum x+y+z from deviating from t, i.e. |x + y + z — t| should be zero. \n",
    "Hence the fitness function can be considered as the inverse of |x + y + z - t|.\n",
    "\"\"\""
   ]
  },
  {
   "cell_type": "code",
   "execution_count": 4,
   "id": "1c047e73",
   "metadata": {},
   "outputs": [
    {
     "data": {
      "text/plain": [
       "'\\n>> Predictive modeling is a commonly used statistical technique to predict future behavior.\\nPredictive modeling solutions are a form of data-mining technology that works by analyzing historical and current data and generating a model to help predict future outcomes.\\nExamples :\\nregression, neural networks\\n\\n>> Descriptive modeling is a mathematical process that describes real-world events and \\nthe relationships between factors responsible for them. The process is used by consumer-driven organizations to help them target their marketing and advertising efforts.\\nExamples :\\nmean,median,mode,variance,range\\n\\n>>Distinguish between predictive models and descriptive models:\\n1. A descriptive model will exploit the past data that are stored in databases and provide you with the accurate report. \\n2. In a Predictive model, it identifies patterns found in past and transactional data to find risks and future outcomes.\\n'"
      ]
     },
     "execution_count": 4,
     "metadata": {},
     "output_type": "execute_result"
    }
   ],
   "source": [
    "#Q2\n",
    "\"\"\"\n",
    ">> Predictive modeling is a commonly used statistical technique to predict future behavior.\n",
    "Predictive modeling solutions are a form of data-mining technology that works by analyzing historical and current data and generating a model to help predict future outcomes.\n",
    "Examples :\n",
    "regression, neural networks\n",
    "\n",
    ">> Descriptive modeling is a mathematical process that describes real-world events and \n",
    "the relationships between factors responsible for them. The process is used by consumer-driven organizations to help them target their marketing and advertising efforts.\n",
    "Examples :\n",
    "mean,median,mode,variance,range\n",
    "\n",
    ">>Distinguish between predictive models and descriptive models:\n",
    "1. A descriptive model will exploit the past data that are stored in databases and provide you with the accurate report. \n",
    "2. In a Predictive model, it identifies patterns found in past and transactional data to find risks and future outcomes.\n",
    "\"\"\""
   ]
  },
  {
   "cell_type": "code",
   "execution_count": 7,
   "id": "c999df18",
   "metadata": {},
   "outputs": [
    {
     "data": {
      "text/plain": [
       "\"\\nThe most commonly used Performance metrics for classification problem are as follows:\\nAccuracy. Confusion Matrix. Precision, Recall, and F1 score\\n\\nAccuracy :\\n>> Accuracy is one metric for evaluating classification models. Informally, accuracy is the fraction of predictions our model got right.\\nFormally, accuracy has the following definition: Accuracy = Number of correct predictions Total number of predictions\\n\\nConfusion Matrix :\\n>> The confusion matrix is a matrix used to determine the performance of the classification models for a given set of test data.\\nIt can only be determined if the true values for test data are known. The matrix itself can be easily understood, but the related terminologies may be confusing.\\n\\nPrecision :\\n>> Precision is one indicator of a machine learning model's performance – the quality of a positive prediction made by the model. \\nPrecision refers to the number of true positives divided by the total number of positive predictions\\n\\nRecall :\\n>> The recall is calculated as the ratio between the numbers of Positive samples correctly classified as Positive to the total number of Positive samples.\\n\\nF1 Score:\\n>> F1-score is one of the most important evaluation metrics in machine learning. \\nIt elegantly sums up the predictive performance of a model by combining two otherwise competing metrics — precision and recall\\n\""
      ]
     },
     "execution_count": 7,
     "metadata": {},
     "output_type": "execute_result"
    }
   ],
   "source": [
    "#Q3\n",
    "\"\"\"\n",
    "The most commonly used Performance metrics for classification problem are as follows:\n",
    "Accuracy. Confusion Matrix. Precision, Recall, and F1 score\n",
    "\n",
    "Accuracy :\n",
    ">> Accuracy is one metric for evaluating classification models. Informally, accuracy is the fraction of predictions our model got right.\n",
    "Formally, accuracy has the following definition: Accuracy = Number of correct predictions Total number of predictions\n",
    "\n",
    "Confusion Matrix :\n",
    ">> The confusion matrix is a matrix used to determine the performance of the classification models for a given set of test data.\n",
    "It can only be determined if the true values for test data are known. The matrix itself can be easily understood, but the related terminologies may be confusing.\n",
    "\n",
    "Precision :\n",
    ">> Precision is one indicator of a machine learning model's performance – the quality of a positive prediction made by the model. \n",
    "Precision refers to the number of true positives divided by the total number of positive predictions\n",
    "\n",
    "Recall :\n",
    ">> The recall is calculated as the ratio between the numbers of Positive samples correctly classified as Positive to the total number of Positive samples.\n",
    "\n",
    "F1 Score:\n",
    ">> F1-score is one of the most important evaluation metrics in machine learning. \n",
    "It elegantly sums up the predictive performance of a model by combining two otherwise competing metrics — precision and recall\n",
    "\"\"\""
   ]
  },
  {
   "cell_type": "code",
   "execution_count": 13,
   "id": "d70ea46c",
   "metadata": {},
   "outputs": [
    {
     "data": {
      "text/plain": [
       "'\\ni)\\n>> Underfitting destroys the accuracy of our machine learning model.\\nIts occurrence simply means that our model or the algorithm does not fit the data well enough. \\nIt usually happens when we have fewer data to build an accurate model and also when we try to build a linear model with fewer non-linear data.\\n\\nii)\\n>> Overfitting is a concept in data science, which occurs when a statistical model fits exactly against its training data. \\nWhen this happens, the algorithm unfortunately cannot perform accurately against unseen data, defeating its purpose\\n\\niii)\\n>> Bias is the simplifying assumptions made by the model to make the target function easier to approximate.\\nVariance is the amount that the estimate of the target function will change given different training data. \\nTrade-off is tension between the error introduced by the bias and the variance.\\n'"
      ]
     },
     "execution_count": 13,
     "metadata": {},
     "output_type": "execute_result"
    }
   ],
   "source": [
    "#Q4\n",
    "\"\"\"\n",
    "i)\n",
    ">> Underfitting destroys the accuracy of our machine learning model.\n",
    "Its occurrence simply means that our model or the algorithm does not fit the data well enough. \n",
    "It usually happens when we have fewer data to build an accurate model and also when we try to build a linear model with fewer non-linear data.\n",
    "\n",
    "ii)\n",
    ">> Overfitting is a concept in data science, which occurs when a statistical model fits exactly against its training data. \n",
    "When this happens, the algorithm unfortunately cannot perform accurately against unseen data, defeating its purpose\n",
    "\n",
    "iii)\n",
    ">> Bias is the simplifying assumptions made by the model to make the target function easier to approximate.\n",
    "Variance is the amount that the estimate of the target function will change given different training data. \n",
    "Trade-off is tension between the error introduced by the bias and the variance.\n",
    "\"\"\""
   ]
  },
  {
   "cell_type": "code",
   "execution_count": 16,
   "id": "6d24ecf4",
   "metadata": {},
   "outputs": [
    {
     "data": {
      "text/plain": [
       "\"\\nPerhaps the easiest and most straightforward way to improve your model's performance and increase its accuracy is to add more data samples to the training data.\\nDoing so will add more details to your data and finetune your model resulting in a more accurate performance\\n\""
      ]
     },
     "execution_count": 16,
     "metadata": {},
     "output_type": "execute_result"
    }
   ],
   "source": [
    "#Q5\n",
    "\"\"\"\n",
    "Perhaps the easiest and most straightforward way to improve your model's performance and increase its accuracy is to add more data samples to the training data.\n",
    "Doing so will add more details to your data and finetune your model resulting in a more accurate performance\n",
    "\"\"\""
   ]
  },
  {
   "cell_type": "code",
   "execution_count": 2,
   "id": "3316dc78",
   "metadata": {},
   "outputs": [
    {
     "data": {
      "text/plain": [
       "'\\nTwin sample validation can be used to validate results of unsupervised learning. \\nIt should be used in combination with internal validation. It can prove to be highly useful in case of time-series data where we want to ensure that our results remain same across time.\\n\\n>> Common unsupervised learning techniques include clustering, anomaly detection, and neural networks. Each technique calls for a different method of evaluating performance.\\n'"
      ]
     },
     "execution_count": 2,
     "metadata": {},
     "output_type": "execute_result"
    }
   ],
   "source": [
    "#Q6\n",
    "\"\"\"\n",
    "Twin sample validation can be used to validate results of unsupervised learning. \n",
    "It should be used in combination with internal validation. It can prove to be highly useful in case of time-series data where we want to ensure that our results remain same across time.\n",
    "\n",
    ">> Common unsupervised learning techniques include clustering, anomaly detection, and neural networks. Each technique calls for a different method of evaluating performance.\n",
    "\"\"\""
   ]
  },
  {
   "cell_type": "code",
   "execution_count": 9,
   "id": "3a8d12d0",
   "metadata": {},
   "outputs": [
    {
     "data": {
      "text/plain": [
       "\"\\nwhen we want to predict a continuous dependent variable from a number of independent variables,we used linear/polynomial regression.\\nBut when it comes to classification, we can't use that anymore. Fundamentally, classification is about predicting a label and regression is about predicting a quantity\\n\""
      ]
     },
     "execution_count": 9,
     "metadata": {},
     "output_type": "execute_result"
    }
   ],
   "source": [
    "#Q7\n",
    "\"\"\"\n",
    "when we want to predict a continuous dependent variable from a number of independent variables,we used linear/polynomial regression.\n",
    "But when it comes to classification, we can't use that anymore. Fundamentally, classification is about predicting a label and regression is about predicting a quantity\n",
    "\"\"\""
   ]
  },
  {
   "cell_type": "code",
   "execution_count": 13,
   "id": "d6d01548",
   "metadata": {},
   "outputs": [
    {
     "data": {
      "text/plain": [
       "'\\npredictive modeling is a statistical technique using machine learning and data mining to predict and forecast likely future outcomes with the aid of \\nhistorical and existing data. It works by analyzing current and historical data and projecting what it learns on a model generated to forecast likely outcomes.\\n'"
      ]
     },
     "execution_count": 13,
     "metadata": {},
     "output_type": "execute_result"
    }
   ],
   "source": [
    "#Q8\n",
    "\"\"\"\n",
    "predictive modeling is a statistical technique using machine learning and data mining to predict and forecast likely future outcomes with the aid of \n",
    "historical and existing data. It works by analyzing current and historical data and projecting what it learns on a model generated to forecast likely outcomes.\n",
    "\"\"\""
   ]
  },
  {
   "cell_type": "code",
   "execution_count": 19,
   "id": "031da1bd",
   "metadata": {},
   "outputs": [
    {
     "data": {
      "text/plain": [
       "'\\n1. The process of holding out : \\nHoldout Method is the simplest sort of method to evaluate a classifier. In this method, the data set is separated into two sets, called the Training set and Test set.\\nA classifier performs function of assigning data items in a given collection to a target category or class.\\n\\n2. Cross-Validation by tenfold :\\nIn this method we have one data set which we divide randomly into 10 parts. \\nWe use 9 of those parts for training and reserve one tenth for testing. We repeat this procedure 10 times each time reserving a different tenth for testing\\n\\n3. Adjusting the parameters : \\nIn ML a model is defined or represented by the model parameters. However the process of training a model involves choosing the optimal hyperparameters \\nthat the learning algorithm will use to learn the optimal parameters that correctly map the input features to the targets such that you achieve some form of intelligence.\\n'"
      ]
     },
     "execution_count": 19,
     "metadata": {},
     "output_type": "execute_result"
    }
   ],
   "source": [
    "#Q10\n",
    "\"\"\"\n",
    "1. The process of holding out : \n",
    "Holdout Method is the simplest sort of method to evaluate a classifier. In this method, the data set is separated into two sets, called the Training set and Test set.\n",
    "A classifier performs function of assigning data items in a given collection to a target category or class.\n",
    "\n",
    "2. Cross-Validation by tenfold :\n",
    "In this method we have one data set which we divide randomly into 10 parts. \n",
    "We use 9 of those parts for training and reserve one tenth for testing. We repeat this procedure 10 times each time reserving a different tenth for testing\n",
    "\n",
    "3. Adjusting the parameters : \n",
    "In ML a model is defined or represented by the model parameters. However the process of training a model involves choosing the optimal hyperparameters \n",
    "that the learning algorithm will use to learn the optimal parameters that correctly map the input features to the targets such that you achieve some form of intelligence.\n",
    "\"\"\""
   ]
  },
  {
   "cell_type": "code",
   "execution_count": 22,
   "id": "2fc85386",
   "metadata": {},
   "outputs": [
    {
     "data": {
      "text/plain": [
       "'\\n1. Purity vs. Silhouette width: \\nThe silhouette value is a measure of how similar an object is to its own cluster (cohesion) compared to other clusters (separation).\\n\\n> Purity is a measure of the extent to which clusters contain a single class.\\n\\n2. boosting vs. Bagging:\\nBagging gives equal weight to each model, whereas in Boosting technique, the new models are weighted based on their results.\\n\\n3. The eager learner vs. the lazy learner : \\nLazy learning essentially postpones generalizing beyond the data stored until an explicit request is made.\\n\\n> In eager learning, the same approximation is used to the target function which needs to be learned based on the training data and before the input queries are observed\\n'"
      ]
     },
     "execution_count": 22,
     "metadata": {},
     "output_type": "execute_result"
    }
   ],
   "source": [
    "#Q11\n",
    "\"\"\"\n",
    "1. Purity vs. Silhouette width: \n",
    "The silhouette value is a measure of how similar an object is to its own cluster (cohesion) compared to other clusters (separation).\n",
    "\n",
    "> Purity is a measure of the extent to which clusters contain a single class.\n",
    "\n",
    "2. boosting vs. Bagging:\n",
    "Bagging gives equal weight to each model, whereas in Boosting technique, the new models are weighted based on their results.\n",
    "\n",
    "3. The eager learner vs. the lazy learner : \n",
    "Lazy learning essentially postpones generalizing beyond the data stored until an explicit request is made.\n",
    "\n",
    "> In eager learning, the same approximation is used to the target function which needs to be learned based on the training data and before the input queries are observed\n",
    "\"\"\""
   ]
  },
  {
   "cell_type": "code",
   "execution_count": null,
   "id": "b98006b4",
   "metadata": {},
   "outputs": [],
   "source": []
  }
 ],
 "metadata": {
  "kernelspec": {
   "display_name": "Python 3 (ipykernel)",
   "language": "python",
   "name": "python3"
  },
  "language_info": {
   "codemirror_mode": {
    "name": "ipython",
    "version": 3
   },
   "file_extension": ".py",
   "mimetype": "text/x-python",
   "name": "python",
   "nbconvert_exporter": "python",
   "pygments_lexer": "ipython3",
   "version": "3.9.12"
  }
 },
 "nbformat": 4,
 "nbformat_minor": 5
}
