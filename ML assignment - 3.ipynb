{
 "cells": [
  {
   "cell_type": "markdown",
   "id": "13876506",
   "metadata": {},
   "source": [
    "# Machine learning assignment - 3"
   ]
  },
  {
   "cell_type": "code",
   "execution_count": 1,
   "id": "b9539de3",
   "metadata": {},
   "outputs": [
    {
     "data": {
      "text/plain": [
       "'with the help of some equations we will be able to find \\nthe patterns between the datasets this is known as machine learning.\\n\\n>> Machine learning works by exploring data and identifying patterns and involves minimal human intervention.\\n\\n>> Machine learning helps in fraud detection , customer service, traffic prediction.\\n\\n>> the ethical concerns that machine learning applications could raise is:\\nLack of quality data, lack of trust, lack of access to public services, cost of innovation.\\n'"
      ]
     },
     "execution_count": 1,
     "metadata": {},
     "output_type": "execute_result"
    }
   ],
   "source": [
    "#Q1\n",
    "\"\"\"with the help of some equations we will be able to find \n",
    "the patterns between the datasets this is known as machine learning.\n",
    "\n",
    ">> Machine learning works by exploring data and identifying patterns and involves minimal human intervention.\n",
    "\n",
    ">> Machine learning helps in fraud detection , customer service, traffic prediction.\n",
    "\n",
    ">> the ethical concerns that machine learning applications could raise is:\n",
    "Lack of quality data, lack of trust, lack of access to public services, cost of innovation.\n",
    "\"\"\""
   ]
  },
  {
   "cell_type": "code",
   "execution_count": 10,
   "id": "53727fea",
   "metadata": {},
   "outputs": [
    {
     "data": {
      "text/plain": [
       "'\\nThere are 3 types of machine learning supervised, unsupervised, reinforcecment learning. \\nhuman guided machine learning is a type os supervised learning which uses a set of human labeled training data to develop a model.\\n\\n'"
      ]
     },
     "execution_count": 10,
     "metadata": {},
     "output_type": "execute_result"
    }
   ],
   "source": [
    "#Q2\n",
    "\"\"\"\n",
    "There are 3 types of machine learning supervised, unsupervised, reinforcecment learning. \n",
    "human guided machine learning is a type os supervised learning which uses a set of human labeled training data to develop a model.\n",
    "\n",
    "\"\"\""
   ]
  },
  {
   "cell_type": "code",
   "execution_count": 6,
   "id": "44a71b53",
   "metadata": {},
   "outputs": [
    {
     "data": {
      "text/plain": [
       "'\\nsupervised learning (regression, classification)\\nunsupervised learning(clusetring)\\nsemi-supervised learning(regression, classification, clustering)\\n'"
      ]
     },
     "execution_count": 6,
     "metadata": {},
     "output_type": "execute_result"
    }
   ],
   "source": [
    "#Q3\n",
    "\"\"\"\n",
    "supervised learning (regression, classification)\n",
    "unsupervised learning(clusetring)\n",
    "semi-supervised learning(regression, classification, clustering)\n",
    "\"\"\""
   ]
  },
  {
   "cell_type": "code",
   "execution_count": 3,
   "id": "89bb78ee",
   "metadata": {},
   "outputs": [
    {
     "data": {
      "text/plain": [
       "'supervised machine learning\\nunsupervised machine learning\\nsemi-supervised machine learning\\nreinforcement learning\\n'"
      ]
     },
     "execution_count": 3,
     "metadata": {},
     "output_type": "execute_result"
    }
   ],
   "source": [
    "#Q4\n",
    "\"\"\"supervised machine learning\n",
    "unsupervised machine learning\n",
    "semi-supervised machine learning\n",
    "reinforcement learning\n",
    "\"\"\"\n"
   ]
  },
  {
   "cell_type": "code",
   "execution_count": 7,
   "id": "08d2ec97",
   "metadata": {},
   "outputs": [
    {
     "data": {
      "text/plain": [
       "\"\\nwell Posed Learning Problem A computer program is said to learn from experience 'E' in context to some task 'T' \\nand some performance measure 'P' if its performance on 'T'  as was measured by 'P' upgrades with experience 'E'. \\nAny problem can be segregated as well-posed learning problem if it has three traits – Task\\n\""
      ]
     },
     "execution_count": 7,
     "metadata": {},
     "output_type": "execute_result"
    }
   ],
   "source": [
    "#Q5\n",
    "\"\"\"\n",
    "well Posed Learning Problem A computer program is said to learn from experience 'E' in context to some task 'T' \n",
    "and some performance measure 'P' if its performance on 'T'  as was measured by 'P' upgrades with experience 'E'. \n",
    "Any problem can be segregated as well-posed learning problem if it has three traits – Task\n",
    "\"\"\""
   ]
  },
  {
   "cell_type": "code",
   "execution_count": 13,
   "id": "0ca736f8",
   "metadata": {},
   "outputs": [
    {
     "data": {
      "text/plain": [
       "\"\\nMachine learning can't solve everything because some of the problems are very challenging for computer scientist and researchers.\\nThe problems are as follows.\\nreasoning power, contextual limitation, scalability, internal working of deep learning.\\n\\n>> If researchers aim at more groundwork related to machine learning rather than imporving this field, we might\\nhave an answer to unsolved problems listed here, after all machine learning should be realised apart from being utilitarian\\n\\n\""
      ]
     },
     "execution_count": 13,
     "metadata": {},
     "output_type": "execute_result"
    }
   ],
   "source": [
    "#Q6\n",
    "\"\"\"\n",
    "Machine learning can't solve everything because some of the problems are very challenging for computer scientist and researchers.\n",
    "The problems are as follows.\n",
    "reasoning power, contextual limitation, scalability, internal working of deep learning.\n",
    "\n",
    ">> If researchers aim at more groundwork related to machine learning rather than imporving this field, we might\n",
    "have an answer to unsolved problems listed here, after all machine learning should be realised apart from being utilitarian\n",
    "\n",
    "\"\"\""
   ]
  },
  {
   "cell_type": "code",
   "execution_count": 9,
   "id": "d543d5c4",
   "metadata": {},
   "outputs": [
    {
     "data": {
      "text/plain": [
       "\"\\nThe various methods and technologies for solving machine learning problems are:\\nregression\\nclassification\\nclustering\\ndimensionality reduction \\nensemble methods\\nneural nets and deep learning\\ntransfer learning\\nreinforcement learning\\nnatural language processing'word embedding\\n\\n>> Regression: it is a technique for finding the relationship between independent variabble or \\nfeatures and a dependent varibable. it is used as predictive modelling in machine learning in which algorithm is used to predict continuous outcomes.\\n\\n>> clustering : it is an unsupervised ML task it involves automatically discovering natural grouping in data\\nclustering algorithm only interpret the output data and find natural groups pr clusters in feature space.\\n\""
      ]
     },
     "execution_count": 9,
     "metadata": {},
     "output_type": "execute_result"
    }
   ],
   "source": [
    "#Q7\n",
    "\"\"\"\n",
    "The various methods and technologies for solving machine learning problems are:\n",
    "regression\n",
    "classification\n",
    "clustering\n",
    "dimensionality reduction \n",
    "ensemble methods\n",
    "neural nets and deep learning\n",
    "transfer learning\n",
    "reinforcement learning\n",
    "natural language processing'word embedding\n",
    "\n",
    ">> Regression: it is a technique for finding the relationship between independent variabble or \n",
    "features and a dependent varibable. it is used as predictive modelling in machine learning in which algorithm is used to predict continuous outcomes.\n",
    "\n",
    ">> clustering : it is an unsupervised ML task it involves automatically discovering natural grouping in data\n",
    "clustering algorithm only interpret the output data and find natural groups pr clusters in feature space.\n",
    "\"\"\""
   ]
  },
  {
   "cell_type": "code",
   "execution_count": 16,
   "id": "f02a28aa",
   "metadata": {},
   "outputs": [
    {
     "data": {
      "text/plain": [
       "'\\nTypes of supervised learning:\\n1.Classification\\n2.Regression\\n\\n>>Classification : it is a task where output is having defined labels.\\nthe goal is to predict discere values beloging to a particular class it can binary or multiclass\\nExample : gmail classifies mails in more than one class \\n\\n>>Regression : it is a task where output is having continous value.\\nthe goal is to predict a value as much closer to the actual output value\\n\\nexamples of supervised learning algorithms :\\nlinear regression , decision trees, SVM(support vector machine), gaussian naive bayes\\n'"
      ]
     },
     "execution_count": 16,
     "metadata": {},
     "output_type": "execute_result"
    }
   ],
   "source": [
    "#Q8\n",
    "\"\"\"\n",
    "Types of supervised learning:\n",
    "1.Classification\n",
    "2.Regression\n",
    "\n",
    ">>Classification : it is a task where output is having defined labels.\n",
    "the goal is to predict discere values beloging to a particular class it can binary or multiclass\n",
    "Example : gmail classifies mails in more than one class \n",
    "\n",
    ">>Regression : it is a task where output is having continous value.\n",
    "the goal is to predict a value as much closer to the actual output value\n",
    "\n",
    "examples of supervised learning algorithms :\n",
    "linear regression , decision trees, SVM(support vector machine), gaussian naive bayes\n",
    "\"\"\""
   ]
  },
  {
   "cell_type": "code",
   "execution_count": 5,
   "id": "73ab3719",
   "metadata": {},
   "outputs": [
    {
     "data": {
      "text/plain": [
       "'\\n>> Supervised learning algorithms are trained using labeled data.\\nsupervised learning models takes direct feedback to check if it is predicting correct output or not.\\n\\n>> Unsupervised learning algorithms are trained using unlabeled data.\\nunsupervised learning modle does not take any feedback\\n'"
      ]
     },
     "execution_count": 5,
     "metadata": {},
     "output_type": "execute_result"
    }
   ],
   "source": [
    "#Q9\n",
    "\"\"\"\n",
    ">> Supervised learning algorithms are trained using labeled data.\n",
    "supervised learning models takes direct feedback to check if it is predicting correct output or not.\n",
    "\n",
    ">> Unsupervised learning algorithms are trained using unlabeled data.\n",
    "unsupervised learning modle does not take any feedback\n",
    "\"\"\""
   ]
  },
  {
   "cell_type": "code",
   "execution_count": 4,
   "id": "bb632467",
   "metadata": {},
   "outputs": [
    {
     "data": {
      "text/plain": [
       "'\\nthe process of machine learning involves taking data, examining it for patterns and developing some dort of prediction about the future outcomes.\\nby feeding an algorithm more data over time, data scientist can sharpen the machine learning models predictions\\n\\nLinear regression:\\n>> Simple linear regression is used to estimate the relationship between 2 quantitative variables.\\nregression models describe the relationship between variables by fitting a line to the observed data.\\nlinear regression models use a straight line, while logistic and nonlinear regression models use a curved line.\\nregression allows you to estimate how a dependent variable changes as the independent variable change\\n\\nDeep learning applications in healthcare:\\n>> Deep learning models can interpret medical images like x-ray, MRI scan, CT scan etc, to perform diagnosis.\\nthe algorithm can detect any risk and flag anomalies in the medical images, it is used in detecting cancer.\\nsome of the applications are as follows:\\n> identifying diseases and diagnosis\\n> drug discovery and manufacturing\\n> medical imaging diagnosis\\n> smart health records\\n'"
      ]
     },
     "execution_count": 4,
     "metadata": {},
     "output_type": "execute_result"
    }
   ],
   "source": [
    "#Q10\n",
    "\"\"\"\n",
    "the process of machine learning involves taking data, examining it for patterns and developing some dort of prediction about the future outcomes.\n",
    "by feeding an algorithm more data over time, data scientist can sharpen the machine learning models predictions\n",
    "\n",
    "Linear regression:\n",
    ">> Simple linear regression is used to estimate the relationship between 2 quantitative variables.\n",
    "regression models describe the relationship between variables by fitting a line to the observed data.\n",
    "linear regression models use a straight line, while logistic and nonlinear regression models use a curved line.\n",
    "regression allows you to estimate how a dependent variable changes as the independent variable change\n",
    "\n",
    "Deep learning applications in healthcare:\n",
    ">> Deep learning models can interpret medical images like x-ray, MRI scan, CT scan etc, to perform diagnosis.\n",
    "the algorithm can detect any risk and flag anomalies in the medical images, it is used in detecting cancer.\n",
    "some of the applications are as follows:\n",
    "> identifying diseases and diagnosis\n",
    "> drug discovery and manufacturing\n",
    "> medical imaging diagnosis\n",
    "> smart health records\n",
    "\"\"\""
   ]
  },
  {
   "cell_type": "code",
   "execution_count": 11,
   "id": "d1f4b25b",
   "metadata": {},
   "outputs": [
    {
     "data": {
      "text/plain": [
       "'\\nGeneralization and abstraction:\\n>> While abstraction reduces complexity by hiding irrelevent detail,\\ngeneralization reduces complexity by replacing multiple entities which perfom similar functions with a single construct\\n\\nRegression and classification:\\n>> Regression helps predict continious quantity \\nclassification predicts discrete class labels\\n'"
      ]
     },
     "execution_count": 11,
     "metadata": {},
     "output_type": "execute_result"
    }
   ],
   "source": [
    "#Q11\n",
    "\"\"\"\n",
    "Generalization and abstraction:\n",
    ">> While abstraction reduces complexity by hiding irrelevent detail,\n",
    "generalization reduces complexity by replacing multiple entities which perfom similar functions with a single construct\n",
    "\n",
    "Regression and classification:\n",
    ">> Regression helps predict continious quantity \n",
    "classification predicts discrete class labels\n",
    "\"\"\""
   ]
  },
  {
   "cell_type": "code",
   "execution_count": null,
   "id": "b191382c",
   "metadata": {},
   "outputs": [],
   "source": []
  }
 ],
 "metadata": {
  "kernelspec": {
   "display_name": "Python 3",
   "language": "python",
   "name": "python3"
  },
  "language_info": {
   "codemirror_mode": {
    "name": "ipython",
    "version": 3
   },
   "file_extension": ".py",
   "mimetype": "text/x-python",
   "name": "python",
   "nbconvert_exporter": "python",
   "pygments_lexer": "ipython3",
   "version": "3.8.8"
  }
 },
 "nbformat": 4,
 "nbformat_minor": 5
}
