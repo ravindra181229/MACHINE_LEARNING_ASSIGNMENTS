{
 "cells": [
  {
   "cell_type": "markdown",
   "id": "30752dd1",
   "metadata": {},
   "source": [
    "# Machine learning assignment - 5"
   ]
  },
  {
   "cell_type": "code",
   "execution_count": 3,
   "id": "84859c57",
   "metadata": {},
   "outputs": [
    {
     "data": {
      "text/plain": [
       "'\\nA machine learning task is the type of prediction being made,based on the problem that is being asked, and the available data.\\n\\n>>Data preprocessing involves transforming raw data to well formed data sets so that data mining analytics can be applied\\n'"
      ]
     },
     "execution_count": 3,
     "metadata": {},
     "output_type": "execute_result"
    }
   ],
   "source": [
    "#Q1\n",
    "\"\"\"\n",
    "A machine learning task is the type of prediction being made,based on the problem that is being asked, and the available data.\n",
    "\n",
    ">>Data preprocessing involves transforming raw data to well formed data sets so that data mining analytics can be applied\n",
    "\"\"\""
   ]
  },
  {
   "cell_type": "code",
   "execution_count": 6,
   "id": "a93160eb",
   "metadata": {},
   "outputs": [
    {
     "data": {
      "text/plain": [
       "'\\nQuantitative research deals with numbers and statistics, while qualitative research deals with words and meanings.\\n\\nQuantitative data :\\nquantitative data is subjective,\\nquantitative data is about how much of that product or service is available.\\n\\nQualitative data:\\nqualitative data is about the quality of a product or service.\\nqualitative data can be used to measure qualities and characteristics\\n'"
      ]
     },
     "execution_count": 6,
     "metadata": {},
     "output_type": "execute_result"
    }
   ],
   "source": [
    "#Q2\n",
    "\"\"\"\n",
    "Quantitative research deals with numbers and statistics, while qualitative research deals with words and meanings.\n",
    "\n",
    "Quantitative data :\n",
    "quantitative data is subjective,\n",
    "quantitative data is about how much of that product or service is available.\n",
    "\n",
    "Qualitative data:\n",
    "qualitative data is about the quality of a product or service.\n",
    "qualitative data can be used to measure qualities and characteristics\n",
    "\"\"\""
   ]
  },
  {
   "cell_type": "code",
   "execution_count": 29,
   "id": "b284d3b9",
   "metadata": {},
   "outputs": [
    {
     "data": {
      "text/plain": [
       "'\\nMost data can be categorized into 4 basic types from a Machine learning\\nnumerical data, categorical data, time-series data and text\\n'"
      ]
     },
     "execution_count": 29,
     "metadata": {},
     "output_type": "execute_result"
    }
   ],
   "source": [
    "#Q3\n",
    "\"\"\"\n",
    "Most data can be categorized into 4 basic types from a Machine learning\n",
    "numerical data, categorical data, time-series data and text\n",
    "\"\"\""
   ]
  },
  {
   "cell_type": "code",
   "execution_count": 1,
   "id": "2f8c608f",
   "metadata": {},
   "outputs": [
    {
     "data": {
      "text/plain": [
       "'\\nInadequate Training Data,poor quality of data,non-representative training data,overfitting and Underfitting\\nMonitoring and maintenance,getting bad recommendations,lack of skilled resources,customer Segmentation.\\n\\n>>the ramifications are:\\nmodel complexity, transfer learning, data augmentation, synthetic data\\n'"
      ]
     },
     "execution_count": 1,
     "metadata": {},
     "output_type": "execute_result"
    }
   ],
   "source": [
    "#Q4\n",
    "\"\"\"\n",
    "Inadequate Training Data,poor quality of data,non-representative training data,overfitting and Underfitting\n",
    "Monitoring and maintenance,getting bad recommendations,lack of skilled resources,customer Segmentation.\n",
    "\n",
    ">>the ramifications are:\n",
    "model complexity, transfer learning, data augmentation, synthetic data\n",
    "\"\"\""
   ]
  },
  {
   "cell_type": "code",
   "execution_count": 4,
   "id": "e592b1c1",
   "metadata": {},
   "outputs": [
    {
     "data": {
      "text/plain": [
       "'\\nUnique value count,Frequency Count,Variance,Pareto Analysis,Histogram\\nCorrelation Heat-map between all numeric columns,Pearson Correlation and Trend between two numeric columns,\\nCramer-V correlation between all Categorical columns,Correlation between two specific categorical columns,Cluster size Analysis\\nClustering or Segmentation,Outlier overview,Outlier analysis for individual numeric column'"
      ]
     },
     "execution_count": 4,
     "metadata": {},
     "output_type": "execute_result"
    }
   ],
   "source": [
    "#Q5\n",
    "\"\"\"\n",
    "Unique value count,Frequency Count,Variance,Pareto Analysis,Histogram\n",
    "Correlation Heat-map between all numeric columns,Pearson Correlation and Trend between two numeric columns,\n",
    "Cramer-V correlation between all Categorical columns,Correlation between two specific categorical columns,Cluster size Analysis\n",
    "Clustering or Segmentation,Outlier overview,Outlier analysis for individual numeric column\"\"\""
   ]
  },
  {
   "cell_type": "code",
   "execution_count": 8,
   "id": "8d6ba888",
   "metadata": {},
   "outputs": [
    {
     "data": {
      "text/plain": [
       "'\\nmissing data present various problems first the absence of data reduces statistical power which refers to the probability that the test will reject the null hypothesis when it is false\\nsecond the lost data can cause bias in the estimation of parameters\\nthirdit can reduce the representativeness of the samples.\\n\\n>>One of the most widely used imputation methods in such a case is the last observation carried forward (LOCF)\\nThis method replaces every missing value with the last observed value from the same subject\\nWhenever a value is missing, it is replaced with the last observed value\\n'"
      ]
     },
     "execution_count": 8,
     "metadata": {},
     "output_type": "execute_result"
    }
   ],
   "source": [
    "#Q6\n",
    "\"\"\"\n",
    "missing data present various problems first the absence of data reduces statistical power which refers to the probability that the test will reject the null hypothesis when it is false\n",
    "second the lost data can cause bias in the estimation of parameters\n",
    "thirdit can reduce the representativeness of the samples.\n",
    "\n",
    ">>One of the most widely used imputation methods in such a case is the last observation carried forward (LOCF)\n",
    "This method replaces every missing value with the last observed value from the same subject\n",
    "Whenever a value is missing, it is replaced with the last observed value\n",
    "\"\"\""
   ]
  },
  {
   "cell_type": "code",
   "execution_count": 11,
   "id": "69d0a004",
   "metadata": {},
   "outputs": [
    {
     "data": {
      "text/plain": [
       "'\\nThere are two ways of handling missing values;\\n1.Deleting the Missing values \\n2.Imputing the Missing Values\\n'"
      ]
     },
     "execution_count": 11,
     "metadata": {},
     "output_type": "execute_result"
    }
   ],
   "source": [
    "#Q7\n",
    "\"\"\"\n",
    "There are two ways of handling missing values;\n",
    "1.Deleting the Missing values \n",
    "2.Imputing the Missing Values\n",
    "\"\"\""
   ]
  },
  {
   "cell_type": "code",
   "execution_count": 16,
   "id": "a776972e",
   "metadata": {},
   "outputs": [
    {
     "data": {
      "text/plain": [
       "'\\nThe data preprocessing techniques are;\\ndata cleaning, data integration, data transformation, data reduction\\n\\n>>Dimensionality reduction\\ndimensionality reduction is a machine learning technique of reducing \\nthe amount of random variables in a problem by obtaining a set of principal variables.\\n\\n>>Function selection \\nFor both qualified and unqualified function references the function selection algorithm \\nlooks at all the applicable functions both built-in and user-defined that have the given name the same number of defined parameters \\nas arguments in the function reference and each parameter identical to or promotable from the type of the corresponding argument.\\n'"
      ]
     },
     "execution_count": 16,
     "metadata": {},
     "output_type": "execute_result"
    }
   ],
   "source": [
    "#Q8\n",
    "\"\"\"\n",
    "The data preprocessing techniques are;\n",
    "data cleaning, data integration, data transformation, data reduction\n",
    "\n",
    ">>Dimensionality reduction\n",
    "dimensionality reduction is a machine learning technique of reducing \n",
    "the amount of random variables in a problem by obtaining a set of principal variables.\n",
    "\n",
    ">>Function selection \n",
    "For both qualified and unqualified function references the function selection algorithm \n",
    "looks at all the applicable functions both built-in and user-defined that have the given name the same number of defined parameters \n",
    "as arguments in the function reference and each parameter identical to or promotable from the type of the corresponding argument.\n",
    "\"\"\""
   ]
  },
  {
   "cell_type": "code",
   "execution_count": 21,
   "id": "6bcb8ffa",
   "metadata": {},
   "outputs": [
    {
     "data": {
      "text/plain": [
       "'\\ni).The interquartile range is calculated in much the same way as the range\\nall we have do to find it is subtract the first quartile from the third quartile IQR = Q3 – Q1\\nThe interquartile range shows how the data is spread about the median\\n\\nii).A box plot is constructed from five values:\\nthe minimum value, the first quartile, the median, the third quartile, and the maximum value.\\n>>The right whisker is longer than the left whisker\\nwhich indicates that the distribution is positively skewed\\n>>When reviewing a box plot an outlier is defined as a data point that is located outside the whiskers of the box plot\\nexample: outside 1.5 times the interquartile range above the upper quartile and below the lower quartile (Q1 - 1.5 * IQR or Q3 + 1.5 * IQR)\\n'"
      ]
     },
     "execution_count": 21,
     "metadata": {},
     "output_type": "execute_result"
    }
   ],
   "source": [
    "#Q9\n",
    "\"\"\"\n",
    "i).The interquartile range is calculated in much the same way as the range\n",
    "all we have do to find it is subtract the first quartile from the third quartile IQR = Q3 – Q1\n",
    "The interquartile range shows how the data is spread about the median\n",
    "\n",
    "ii).A box plot is constructed from five values:\n",
    "the minimum value, the first quartile, the median, the third quartile, and the maximum value.\n",
    ">>The right whisker is longer than the left whisker\n",
    "which indicates that the distribution is positively skewed\n",
    ">>When reviewing a box plot an outlier is defined as a data point that is located outside the whiskers of the box plot\n",
    "example: outside 1.5 times the interquartile range above the upper quartile and below the lower quartile (Q1 - 1.5 * IQR or Q3 + 1.5 * IQR)\n",
    "\"\"\""
   ]
  },
  {
   "cell_type": "code",
   "execution_count": 26,
   "id": "6200890c",
   "metadata": {},
   "outputs": [
    {
     "data": {
      "text/plain": [
       "'\\nUse of cross-tab:\\n>>Cross tab is used to quantitatively analyze the relationship between multiple variables\\nCross tabulations also referred to as crosstabs — group variables together and enable researchers to understand the correlation between the different variables.\\n\\nThe gap between the quartiles:\\n>> A quartile divides data into three points a lower quartile, median, and upper quartile—to form four groups of the dataset\\nfirst quartile: the lowest 25% of numbers\\nsecond quartile: between 0% and 50% (up to the median)\\nthird quartile: 0% to 75%\\nfourth quartile: the highest 25% of numbers\\n\\nHistogram and box plot:\\n* histograms are better in determining the underlying distribution of the data\\n* box plots allow you to compare multiple data sets better than histograms as they are less detailed and take up less space\\n\\nThe average and median:\\n* The average arithmetic of a given set of numbers is called mean\\n* The method of separating the higher sample with the lower value usually from a probability distribution is termed as the median\\n'"
      ]
     },
     "execution_count": 26,
     "metadata": {},
     "output_type": "execute_result"
    }
   ],
   "source": [
    "#Q10\n",
    "\"\"\"\n",
    "Use of cross-tab:\n",
    ">>Cross tab is used to quantitatively analyze the relationship between multiple variables\n",
    "Cross tabulations also referred to as crosstabs — group variables together and enable researchers to understand the correlation between the different variables.\n",
    "\n",
    "The gap between the quartiles:\n",
    ">> A quartile divides data into three points a lower quartile, median, and upper quartile—to form four groups of the dataset\n",
    "first quartile: the lowest 25% of numbers\n",
    "second quartile: between 0% and 50% (up to the median)\n",
    "third quartile: 0% to 75%\n",
    "fourth quartile: the highest 25% of numbers\n",
    "\n",
    "Histogram and box plot:\n",
    "* histograms are better in determining the underlying distribution of the data\n",
    "* box plots allow you to compare multiple data sets better than histograms as they are less detailed and take up less space\n",
    "\n",
    "The average and median:\n",
    "* The average arithmetic of a given set of numbers is called mean\n",
    "* The method of separating the higher sample with the lower value usually from a probability distribution is termed as the median\n",
    "\"\"\""
   ]
  },
  {
   "cell_type": "code",
   "execution_count": null,
   "id": "d7b9f331",
   "metadata": {},
   "outputs": [],
   "source": []
  }
 ],
 "metadata": {
  "kernelspec": {
   "display_name": "Python 3",
   "language": "python",
   "name": "python3"
  },
  "language_info": {
   "codemirror_mode": {
    "name": "ipython",
    "version": 3
   },
   "file_extension": ".py",
   "mimetype": "text/x-python",
   "name": "python",
   "nbconvert_exporter": "python",
   "pygments_lexer": "ipython3",
   "version": "3.8.8"
  }
 },
 "nbformat": 4,
 "nbformat_minor": 5
}
